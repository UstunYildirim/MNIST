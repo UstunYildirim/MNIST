{
 "cells": [
  {
   "cell_type": "code",
   "execution_count": 1,
   "metadata": {},
   "outputs": [],
   "source": [
    "from trainAndPredict import *\n"
   ]
  },
  {
   "cell_type": "code",
   "execution_count": null,
   "metadata": {},
   "outputs": [
    {
     "name": "stdout",
     "output_type": "stream",
     "text": [
      "Run #   1\tCost: 3.36307\tError rate on test: 79.150%\n",
      "Run #   2\tCost: 3.36394\tError rate on test: 79.190%\n",
      "Run #   3\tCost: 3.32868\tError rate on test: 79.370%\n",
      "Run #   4\tCost: 3.21182\tError rate on test: 79.390%\n",
      "Run #   5\tCost: 3.16975\tError rate on test: 79.270%\n",
      "Run #   6\tCost: 3.13126\tError rate on test: 78.880%\n",
      "Run #   7\tCost: 2.96731\tError rate on test: 68.540%\n",
      "Run #   8\tCost: 2.91827\tError rate on test: 69.170%\n",
      "Run #   9\tCost: 2.84231\tError rate on test: 69.330%\n",
      "Run #  10\tCost: 2.67768\tError rate on test: 68.070%\n",
      "Run #  11\tCost: 2.57102\tError rate on test: 65.580%\n",
      "Run #  12\tCost: 2.42545\tError rate on test: 62.260%\n",
      "Run #  13\tCost: 2.37397\tError rate on test: 57.140%\n",
      "Run #  14\tCost: 2.17186\tError rate on test: 49.100%\n",
      "Run #  15\tCost: 2.14479\tError rate on test: 43.320%\n",
      "Run #  16\tCost: 2.10366\tError rate on test: 39.020%\n",
      "Run #  17\tCost: 2.05110\tError rate on test: 34.240%\n",
      "Run #  18\tCost: 1.94835\tError rate on test: 36.510%\n",
      "Run #  19\tCost: 1.77178\tError rate on test: 34.140%\n",
      "Run #  20\tCost: 1.72280\tError rate on test: 32.040%\n",
      "Run #  21\tCost: 1.63014\tError rate on test: 31.530%\n",
      "Run #  22\tCost: 1.53792\tError rate on test: 29.810%\n",
      "Run #  23\tCost: 1.48047\tError rate on test: 27.160%\n",
      "Run #  24\tCost: 1.30356\tError rate on test: 24.000%\n",
      "Run #  25\tCost: 1.27131\tError rate on test: 19.850%\n",
      "Run #  26\tCost: 1.18682\tError rate on test: 20.870%\n",
      "Run #  27\tCost: 1.13032\tError rate on test: 17.340%\n",
      "Run #  28\tCost: 1.09447\tError rate on test: 15.540%\n",
      "Run #  29\tCost: 1.04287\tError rate on test: 14.820%\n",
      "Run #  30\tCost: 1.00367\tError rate on test: 12.500%\n",
      "Run #  31\tCost: 0.88379\tError rate on test: 13.600%\n"
     ]
    }
   ],
   "source": [
    "training(nLayers, iterations=1000, batchSize=2**10, plot=True)"
   ]
  },
  {
   "cell_type": "code",
   "execution_count": null,
   "metadata": {},
   "outputs": [],
   "source": []
  }
 ],
 "metadata": {
  "kernelspec": {
   "display_name": "Python 3",
   "language": "python",
   "name": "python3"
  },
  "language_info": {
   "codemirror_mode": {
    "name": "ipython",
    "version": 3
   },
   "file_extension": ".py",
   "mimetype": "text/x-python",
   "name": "python",
   "nbconvert_exporter": "python",
   "pygments_lexer": "ipython3",
   "version": "3.8.1"
  }
 },
 "nbformat": 4,
 "nbformat_minor": 2
}
